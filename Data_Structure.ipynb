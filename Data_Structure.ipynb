{
  "nbformat": 4,
  "nbformat_minor": 0,
  "metadata": {
    "colab": {
      "name": "Data Structure.ipynb",
      "provenance": [],
      "collapsed_sections": [],
      "authorship_tag": "ABX9TyNJeijHPTjTzQEhmeG0vT/7",
      "include_colab_link": true
    },
    "kernelspec": {
      "name": "python3",
      "display_name": "Python 3"
    },
    "language_info": {
      "name": "python"
    }
  },
  "cells": [
    {
      "cell_type": "markdown",
      "metadata": {
        "id": "view-in-github",
        "colab_type": "text"
      },
      "source": [
        "<a href=\"https://colab.research.google.com/github/jtmeawno1/BasicProg_DataViz65/blob/main/Data_Structure.ipynb\" target=\"_parent\"><img src=\"https://colab.research.google.com/assets/colab-badge.svg\" alt=\"Open In Colab\"/></a>"
      ]
    },
    {
      "cell_type": "markdown",
      "source": [
        "# Data Structure (โครงสร้างข้อมูล)\n",
        "\n",
        "การเก็บข้อมูลหลายๆตัวไว้ด้วยกันอย่างเป็นระเบียบ"
      ],
      "metadata": {
        "id": "RXQv6XGCipBf"
      }
    },
    {
      "cell_type": "markdown",
      "source": [
        "## `List ()`\n",
        "- เก็บอะไรก็ได้\n",
        "- ลำดับการเก็บใน มีความสำคัญ"
      ],
      "metadata": {
        "id": "mjUZSPA3jAnQ"
      }
    },
    {
      "cell_type": "code",
      "source": [
        "list_a = [1,2,3,4,5,6] # [ ] square brackets"
      ],
      "metadata": {
        "id": "wcuiFdvXjSlU"
      },
      "execution_count": 4,
      "outputs": []
    },
    {
      "cell_type": "code",
      "source": [
        "list_a"
      ],
      "metadata": {
        "colab": {
          "base_uri": "https://localhost:8080/"
        },
        "id": "uhtPrQGDjkS-",
        "outputId": "056de149-c8b6-4573-f300-81d6426ce74b"
      },
      "execution_count": 5,
      "outputs": [
        {
          "output_type": "execute_result",
          "data": {
            "text/plain": [
              "[1, 2, 3, 4, 5, 6]"
            ]
          },
          "metadata": {},
          "execution_count": 5
        }
      ]
    },
    {
      "cell_type": "code",
      "source": [
        "list_b = ['ab',2,3.14,list_a]"
      ],
      "metadata": {
        "id": "UYDApDgFjs2o"
      },
      "execution_count": 6,
      "outputs": []
    },
    {
      "cell_type": "code",
      "source": [
        "list_b"
      ],
      "metadata": {
        "colab": {
          "base_uri": "https://localhost:8080/"
        },
        "id": "wgiBk9aBj3FN",
        "outputId": "4a0b348f-ec02-4c9f-b1c8-fecb13593c37"
      },
      "execution_count": 7,
      "outputs": [
        {
          "output_type": "execute_result",
          "data": {
            "text/plain": [
              "['ab', 2, 3.14, [1, 2, 3, 4, 5, 6]]"
            ]
          },
          "metadata": {},
          "execution_count": 7
        }
      ]
    },
    {
      "cell_type": "markdown",
      "source": [
        "### indexing การชี้สมาชิกใน lust ด้วย เลขลำดับของ list"
      ],
      "metadata": {
        "id": "OrEW9wXMkuvC"
      }
    },
    {
      "cell_type": "code",
      "source": [
        "list_a[3]"
      ],
      "metadata": {
        "colab": {
          "base_uri": "https://localhost:8080/"
        },
        "id": "RIq7CzYtkJd1",
        "outputId": "6192b558-24b4-4ba5-9b70-72ff91e09074"
      },
      "execution_count": 8,
      "outputs": [
        {
          "output_type": "execute_result",
          "data": {
            "text/plain": [
              "4"
            ]
          },
          "metadata": {},
          "execution_count": 8
        }
      ]
    },
    {
      "cell_type": "code",
      "source": [
        "list_b[3]"
      ],
      "metadata": {
        "colab": {
          "base_uri": "https://localhost:8080/"
        },
        "id": "v61UqxHgkTtO",
        "outputId": "b8e7efd5-553c-4258-c8ed-fe17f729a59e"
      },
      "execution_count": 9,
      "outputs": [
        {
          "output_type": "execute_result",
          "data": {
            "text/plain": [
              "[1, 2, 3, 4, 5, 6]"
            ]
          },
          "metadata": {},
          "execution_count": 9
        }
      ]
    },
    {
      "cell_type": "code",
      "source": [
        "list_b[3][4] # list_b ตัวที่ 3 และ ตัวที่ 4 ของ list_b[3]"
      ],
      "metadata": {
        "colab": {
          "base_uri": "https://localhost:8080/"
        },
        "id": "gsXw6JpZklxU",
        "outputId": "157dee56-ec74-4d42-b208-49d9772d75e3"
      },
      "execution_count": 10,
      "outputs": [
        {
          "output_type": "execute_result",
          "data": {
            "text/plain": [
              "5"
            ]
          },
          "metadata": {},
          "execution_count": 10
        }
      ]
    },
    {
      "cell_type": "code",
      "source": [
        "list_a[6]"
      ],
      "metadata": {
        "colab": {
          "base_uri": "https://localhost:8080/",
          "height": 165
        },
        "id": "WTzpNzAclIKz",
        "outputId": "b517b2ba-6997-48dc-a59e-4c993a4e5257"
      },
      "execution_count": null,
      "outputs": [
        {
          "output_type": "error",
          "ename": "IndexError",
          "evalue": "ignored",
          "traceback": [
            "\u001b[0;31m---------------------------------------------------------------------------\u001b[0m",
            "\u001b[0;31mIndexError\u001b[0m                                Traceback (most recent call last)",
            "\u001b[0;32m<ipython-input-8-d6b61775e813>\u001b[0m in \u001b[0;36m<module>\u001b[0;34m()\u001b[0m\n\u001b[0;32m----> 1\u001b[0;31m \u001b[0mlist_a\u001b[0m\u001b[0;34m[\u001b[0m\u001b[0;36m6\u001b[0m\u001b[0;34m]\u001b[0m\u001b[0;34m\u001b[0m\u001b[0;34m\u001b[0m\u001b[0m\n\u001b[0m",
            "\u001b[0;31mIndexError\u001b[0m: list index out of range"
          ]
        }
      ]
    },
    {
      "cell_type": "code",
      "source": [
        "list_a[-1] #index -1 คือตัวสุดท้ายของ list"
      ],
      "metadata": {
        "colab": {
          "base_uri": "https://localhost:8080/"
        },
        "id": "YXDhNairlM2J",
        "outputId": "a38af235-f03c-45b2-f29b-1cad90b94f32"
      },
      "execution_count": 12,
      "outputs": [
        {
          "output_type": "execute_result",
          "data": {
            "text/plain": [
              "6"
            ]
          },
          "metadata": {},
          "execution_count": 12
        }
      ]
    },
    {
      "cell_type": "code",
      "source": [
        "list_a[-4] "
      ],
      "metadata": {
        "colab": {
          "base_uri": "https://localhost:8080/"
        },
        "outputId": "ec980aef-4c15-4acb-fa31-9b17370db923",
        "id": "dZ0XvsQ9li1b"
      },
      "execution_count": 13,
      "outputs": [
        {
          "output_type": "execute_result",
          "data": {
            "text/plain": [
              "3"
            ]
          },
          "metadata": {},
          "execution_count": 13
        }
      ]
    },
    {
      "cell_type": "markdown",
      "source": [
        "### การสร้าง `list()`"
      ],
      "metadata": {
        "id": "NRJAA7gDlvHa"
      }
    },
    {
      "cell_type": "code",
      "source": [
        "list_x1 = [] #แบบที่ 1\n",
        "list_x2 = list() #แบบที่ 2"
      ],
      "metadata": {
        "id": "JNw9J_MwmJGs"
      },
      "execution_count": 14,
      "outputs": []
    },
    {
      "cell_type": "code",
      "source": [
        "print(list_x1)\n",
        "print(list_x2)"
      ],
      "metadata": {
        "colab": {
          "base_uri": "https://localhost:8080/"
        },
        "id": "TZtNYFcZmdYf",
        "outputId": "fefdab8c-050d-41c0-ca05-5ac4155fd6ad"
      },
      "execution_count": null,
      "outputs": [
        {
          "output_type": "stream",
          "name": "stdout",
          "text": [
            "[]\n",
            "[]\n"
          ]
        }
      ]
    },
    {
      "cell_type": "markdown",
      "source": [
        "### เพิ่มสมาชิกเข้าไปใน List ด้วย `append()`"
      ],
      "metadata": {
        "id": "hKlPWNxrmo2I"
      }
    },
    {
      "cell_type": "code",
      "source": [
        "list_x1.append(2)"
      ],
      "metadata": {
        "id": "LBMQgFEOm3c6"
      },
      "execution_count": 15,
      "outputs": []
    },
    {
      "cell_type": "code",
      "source": [
        "list_x1"
      ],
      "metadata": {
        "colab": {
          "base_uri": "https://localhost:8080/"
        },
        "id": "64xQw9mVnDZE",
        "outputId": "476a7ae4-1837-4aca-e2f7-e14d647c8d34"
      },
      "execution_count": 16,
      "outputs": [
        {
          "output_type": "execute_result",
          "data": {
            "text/plain": [
              "[2]"
            ]
          },
          "metadata": {},
          "execution_count": 16
        }
      ]
    },
    {
      "cell_type": "code",
      "source": [
        "list_x1.append(4)\n",
        "print(list_x1)"
      ],
      "metadata": {
        "colab": {
          "base_uri": "https://localhost:8080/"
        },
        "id": "K5-4uD0CnOkv",
        "outputId": "c500cbaa-b645-4069-c06f-265295f28e28"
      },
      "execution_count": 17,
      "outputs": [
        {
          "output_type": "stream",
          "name": "stdout",
          "text": [
            "[2, 4]\n"
          ]
        }
      ]
    },
    {
      "cell_type": "code",
      "source": [
        "list_x1[0]"
      ],
      "metadata": {
        "colab": {
          "base_uri": "https://localhost:8080/"
        },
        "id": "el8VZY6CnnEe",
        "outputId": "37039dd9-c8b9-4455-b560-2ae242cf1f68"
      },
      "execution_count": 18,
      "outputs": [
        {
          "output_type": "execute_result",
          "data": {
            "text/plain": [
              "2"
            ]
          },
          "metadata": {},
          "execution_count": 18
        }
      ]
    },
    {
      "cell_type": "code",
      "source": [
        "list_x1[-1]"
      ],
      "metadata": {
        "colab": {
          "base_uri": "https://localhost:8080/"
        },
        "id": "nhbYt7BGocBo",
        "outputId": "e54f8329-f6b8-4cdf-9c3c-2df0f4b79a23"
      },
      "execution_count": 19,
      "outputs": [
        {
          "output_type": "execute_result",
          "data": {
            "text/plain": [
              "4"
            ]
          },
          "metadata": {},
          "execution_count": 19
        }
      ]
    },
    {
      "cell_type": "code",
      "source": [
        "list_x2.append('ha')"
      ],
      "metadata": {
        "id": "sP8tJmXmo0hY"
      },
      "execution_count": 20,
      "outputs": []
    },
    {
      "cell_type": "code",
      "source": [
        "list_x2"
      ],
      "metadata": {
        "colab": {
          "base_uri": "https://localhost:8080/"
        },
        "id": "LTFZA8U7o67q",
        "outputId": "4bcf90c6-d5a8-4c09-a9a1-9d5d662de1c2"
      },
      "execution_count": 21,
      "outputs": [
        {
          "output_type": "execute_result",
          "data": {
            "text/plain": [
              "['ha']"
            ]
          },
          "metadata": {},
          "execution_count": 21
        }
      ]
    },
    {
      "cell_type": "markdown",
      "source": [
        "### ลบสมาชิกจาก list"
      ],
      "metadata": {
        "id": "HRdhcTGOpZHx"
      }
    },
    {
      "cell_type": "code",
      "source": [
        "list_x1.append('ha')"
      ],
      "metadata": {
        "id": "wvFCYipJo_1Z"
      },
      "execution_count": null,
      "outputs": []
    },
    {
      "cell_type": "code",
      "source": [
        "list_x1"
      ],
      "metadata": {
        "colab": {
          "base_uri": "https://localhost:8080/"
        },
        "id": "b_iWw72QpI5Z",
        "outputId": "187cd2ec-2643-4fb0-b245-fe8f4e66b27b"
      },
      "execution_count": null,
      "outputs": [
        {
          "output_type": "execute_result",
          "data": {
            "text/plain": [
              "[2, 4, 'ha', 'ha']"
            ]
          },
          "metadata": {},
          "execution_count": 24
        }
      ]
    },
    {
      "cell_type": "code",
      "source": [
        "list_x1.pop()"
      ],
      "metadata": {
        "colab": {
          "base_uri": "https://localhost:8080/",
          "height": 35
        },
        "id": "lHlnw0oWpkjO",
        "outputId": "4324cb72-1947-48f5-8a30-23983a64f621"
      },
      "execution_count": null,
      "outputs": [
        {
          "output_type": "execute_result",
          "data": {
            "text/plain": [
              "'ha'"
            ],
            "application/vnd.google.colaboratory.intrinsic+json": {
              "type": "string"
            }
          },
          "metadata": {},
          "execution_count": 25
        }
      ]
    },
    {
      "cell_type": "code",
      "source": [
        "list_x1"
      ],
      "metadata": {
        "colab": {
          "base_uri": "https://localhost:8080/"
        },
        "id": "s7y3NMeQps1J",
        "outputId": "41fa7516-813c-4c46-adf4-6be322c684a1"
      },
      "execution_count": null,
      "outputs": [
        {
          "output_type": "execute_result",
          "data": {
            "text/plain": [
              "[2, 4, 'ha']"
            ]
          },
          "metadata": {},
          "execution_count": 26
        }
      ]
    },
    {
      "cell_type": "code",
      "source": [
        "list_x1.pop()\n",
        "print(list_x1)"
      ],
      "metadata": {
        "colab": {
          "base_uri": "https://localhost:8080/"
        },
        "id": "oNT5EBLHpyrZ",
        "outputId": "b0eadd62-b48d-4ecc-d3b7-0687ce103642"
      },
      "execution_count": null,
      "outputs": [
        {
          "output_type": "stream",
          "name": "stdout",
          "text": [
            "[2, 4]\n"
          ]
        }
      ]
    },
    {
      "cell_type": "markdown",
      "source": [
        "### `len()` ตรวจสอบจำนวนสมาชิกของ list"
      ],
      "metadata": {
        "id": "4OaFy9wmrYCx"
      }
    },
    {
      "cell_type": "code",
      "source": [
        "print(list_b)\n",
        "print(len(list_b))"
      ],
      "metadata": {
        "colab": {
          "base_uri": "https://localhost:8080/"
        },
        "id": "a5lLDXXsrg50",
        "outputId": "4aafd997-c365-4a73-85c4-4dbc0dcb9a9c"
      },
      "execution_count": null,
      "outputs": [
        {
          "output_type": "stream",
          "name": "stdout",
          "text": [
            "['ab', 2, 3.14, [1, 2, 3, 4, 5, 6]]\n",
            "4\n"
          ]
        }
      ]
    },
    {
      "cell_type": "code",
      "source": [
        "len(list_a)"
      ],
      "metadata": {
        "colab": {
          "base_uri": "https://localhost:8080/"
        },
        "id": "FLuDg4Ocrzem",
        "outputId": "b5bcd1bf-4a5f-4ad8-90ff-ae1c0bedd47d"
      },
      "execution_count": null,
      "outputs": [
        {
          "output_type": "execute_result",
          "data": {
            "text/plain": [
              "6"
            ]
          },
          "metadata": {},
          "execution_count": 29
        }
      ]
    },
    {
      "cell_type": "markdown",
      "source": [
        "### String is a list of characters"
      ],
      "metadata": {
        "id": "qxnvWI0sr-eU"
      }
    },
    {
      "cell_type": "code",
      "source": [
        "st_stat = 'Department of Statistics, Faculty of Science'"
      ],
      "metadata": {
        "id": "38M_Cb1esEMM"
      },
      "execution_count": 27,
      "outputs": []
    },
    {
      "cell_type": "code",
      "source": [
        "st_stat[10]"
      ],
      "metadata": {
        "colab": {
          "base_uri": "https://localhost:8080/",
          "height": 36
        },
        "id": "XTc7VwZIsZMQ",
        "outputId": "b8d57345-8eac-4155-cd7d-023766a4480e"
      },
      "execution_count": 29,
      "outputs": [
        {
          "output_type": "execute_result",
          "data": {
            "text/plain": [
              "' '"
            ],
            "application/vnd.google.colaboratory.intrinsic+json": {
              "type": "string"
            }
          },
          "metadata": {},
          "execution_count": 29
        }
      ]
    },
    {
      "cell_type": "code",
      "source": [
        "len(st_stat)"
      ],
      "metadata": {
        "colab": {
          "base_uri": "https://localhost:8080/"
        },
        "id": "vVkUbcdksrnH",
        "outputId": "5d7f8d90-0dd2-45f1-962c-0c5161dd0177"
      },
      "execution_count": null,
      "outputs": [
        {
          "output_type": "execute_result",
          "data": {
            "text/plain": [
              "44"
            ]
          },
          "metadata": {},
          "execution_count": 33
        }
      ]
    },
    {
      "cell_type": "markdown",
      "source": [
        "### List Slicing `:`"
      ],
      "metadata": {
        "id": "tnH5I8Pxs4F-"
      }
    },
    {
      "cell_type": "markdown",
      "source": [
        "   `list[จุดเริ่มต้น (ทึบ):จุดสุดท้าย (โปร่ง)]`\n",
        "   \n",
        "   `list[จุดเริ่มต้น(ทึบ) :จุดสุดท้าย (โปร่ง):step]`"
      ],
      "metadata": {
        "id": "jnMKgTR9to6k"
      }
    },
    {
      "cell_type": "markdown",
      "source": [
        "![download.gif](data:image/gif;base64,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)"
      ],
      "metadata": {
        "id": "ZsihzTBEVqI3"
      }
    },
    {
      "cell_type": "code",
      "source": [
        "list_a"
      ],
      "metadata": {
        "colab": {
          "base_uri": "https://localhost:8080/"
        },
        "id": "BMxwdAb2tAED",
        "outputId": "a30420a5-5304-4390-b39b-66c8a41a3102"
      },
      "execution_count": 30,
      "outputs": [
        {
          "output_type": "execute_result",
          "data": {
            "text/plain": [
              "[1, 2, 3, 4, 5, 6]"
            ]
          },
          "metadata": {},
          "execution_count": 30
        }
      ]
    },
    {
      "cell_type": "code",
      "source": [
        "list_a[2]"
      ],
      "metadata": {
        "colab": {
          "base_uri": "https://localhost:8080/"
        },
        "id": "U0NANg87tJaH",
        "outputId": "3dddd492-0887-43a2-b559-2417b6711658"
      },
      "execution_count": null,
      "outputs": [
        {
          "output_type": "execute_result",
          "data": {
            "text/plain": [
              "3"
            ]
          },
          "metadata": {},
          "execution_count": 35
        }
      ]
    },
    {
      "cell_type": "markdown",
      "source": [
        "#### `:` colon"
      ],
      "metadata": {
        "id": "C8HnY15exFNJ"
      }
    },
    {
      "cell_type": "code",
      "source": [
        "list_a[-3:] # colon"
      ],
      "metadata": {
        "colab": {
          "base_uri": "https://localhost:8080/"
        },
        "id": "i6Q8CB_xtMjU",
        "outputId": "1e99e75c-3015-4154-cead-d743c16f027c"
      },
      "execution_count": 32,
      "outputs": [
        {
          "output_type": "execute_result",
          "data": {
            "text/plain": [
              "[4, 5, 6]"
            ]
          },
          "metadata": {},
          "execution_count": 32
        }
      ]
    },
    {
      "cell_type": "code",
      "source": [
        "list_a[:4]"
      ],
      "metadata": {
        "colab": {
          "base_uri": "https://localhost:8080/"
        },
        "id": "zBpakB3twkVZ",
        "outputId": "df6f0c51-5bbf-4fe7-d5b5-c5a1c8ba182b"
      },
      "execution_count": null,
      "outputs": [
        {
          "output_type": "execute_result",
          "data": {
            "text/plain": [
              "[1, 2, 3, 4]"
            ]
          },
          "metadata": {},
          "execution_count": 39
        }
      ]
    },
    {
      "cell_type": "code",
      "source": [
        "list_a[1:4]"
      ],
      "metadata": {
        "colab": {
          "base_uri": "https://localhost:8080/"
        },
        "id": "rWCBH6Ctv9C3",
        "outputId": "66c28d12-1244-4f98-9abd-07536a093b75"
      },
      "execution_count": null,
      "outputs": [
        {
          "output_type": "execute_result",
          "data": {
            "text/plain": [
              "[2, 3, 4]"
            ]
          },
          "metadata": {},
          "execution_count": 38
        }
      ]
    },
    {
      "cell_type": "code",
      "source": [
        "list_a[:]"
      ],
      "metadata": {
        "colab": {
          "base_uri": "https://localhost:8080/"
        },
        "id": "8k1O67Zbw3Bh",
        "outputId": "5947c1b0-6f52-40cd-975d-cb8886d00d11"
      },
      "execution_count": null,
      "outputs": [
        {
          "output_type": "execute_result",
          "data": {
            "text/plain": [
              "[1, 2, 3, 4, 5, 6]"
            ]
          },
          "metadata": {},
          "execution_count": 40
        }
      ]
    },
    {
      "cell_type": "markdown",
      "source": [
        "#### step"
      ],
      "metadata": {
        "id": "WVh9vB-jxPNs"
      }
    },
    {
      "cell_type": "code",
      "source": [
        "list_c = [1,2,3,4,5,6,7,8,9,10,11,12,13]"
      ],
      "metadata": {
        "id": "iDA_UQ0hxT6d"
      },
      "execution_count": null,
      "outputs": []
    },
    {
      "cell_type": "code",
      "source": [
        "list_c[:10:]"
      ],
      "metadata": {
        "colab": {
          "base_uri": "https://localhost:8080/"
        },
        "id": "22RZPNqFxfrH",
        "outputId": "d03ade07-d846-49d5-eb48-093da4284c68"
      },
      "execution_count": null,
      "outputs": [
        {
          "output_type": "execute_result",
          "data": {
            "text/plain": [
              "[1, 2, 3, 4, 5, 6, 7, 8, 9, 10]"
            ]
          },
          "metadata": {},
          "execution_count": 42
        }
      ]
    },
    {
      "cell_type": "code",
      "source": [
        "list_c[:10:2]"
      ],
      "metadata": {
        "colab": {
          "base_uri": "https://localhost:8080/"
        },
        "id": "Fm94hmIBx3Bp",
        "outputId": "23be375e-8e14-484b-9adf-2eab61c9bec6"
      },
      "execution_count": null,
      "outputs": [
        {
          "output_type": "execute_result",
          "data": {
            "text/plain": [
              "[1, 3, 5, 7, 9]"
            ]
          },
          "metadata": {},
          "execution_count": 43
        }
      ]
    },
    {
      "cell_type": "code",
      "source": [
        "list_c[::-1]"
      ],
      "metadata": {
        "colab": {
          "base_uri": "https://localhost:8080/"
        },
        "id": "3eAUIIAKyAxu",
        "outputId": "15e01acf-cbbe-4380-edce-1c8bbc4bc328"
      },
      "execution_count": null,
      "outputs": [
        {
          "output_type": "execute_result",
          "data": {
            "text/plain": [
              "[13, 12, 11, 10, 9, 8, 7, 6, 5, 4, 3, 2, 1]"
            ]
          },
          "metadata": {},
          "execution_count": 44
        }
      ]
    },
    {
      "cell_type": "markdown",
      "source": [
        "### `range()`"
      ],
      "metadata": {
        "id": "7IVJSMKYySmj"
      }
    },
    {
      "cell_type": "code",
      "source": [
        "a = list(range(21))"
      ],
      "metadata": {
        "id": "7XVh0oXsyZMA"
      },
      "execution_count": null,
      "outputs": []
    },
    {
      "cell_type": "code",
      "source": [
        "a"
      ],
      "metadata": {
        "colab": {
          "base_uri": "https://localhost:8080/"
        },
        "id": "8dC49mdoyhTv",
        "outputId": "cf2c257f-187a-4b00-9b56-265ddaf96c80"
      },
      "execution_count": null,
      "outputs": [
        {
          "output_type": "execute_result",
          "data": {
            "text/plain": [
              "[0, 1, 2, 3, 4, 5, 6, 7, 8, 9, 10, 11, 12, 13, 14, 15, 16, 17, 18, 19, 20]"
            ]
          },
          "metadata": {},
          "execution_count": 46
        }
      ]
    },
    {
      "cell_type": "code",
      "source": [
        "list(range(1,21))"
      ],
      "metadata": {
        "colab": {
          "base_uri": "https://localhost:8080/"
        },
        "id": "UiHWXmYnyv_1",
        "outputId": "f2768d7c-d698-45fe-c8ff-5b616bd3ceaa"
      },
      "execution_count": null,
      "outputs": [
        {
          "output_type": "execute_result",
          "data": {
            "text/plain": [
              "[1, 2, 3, 4, 5, 6, 7, 8, 9, 10, 11, 12, 13, 14, 15, 16, 17, 18, 19, 20]"
            ]
          },
          "metadata": {},
          "execution_count": 48
        }
      ]
    },
    {
      "cell_type": "markdown",
      "source": [
        "# HW2"
      ],
      "metadata": {
        "id": "F79c_lZP_uA7"
      }
    },
    {
      "cell_type": "markdown",
      "source": [
        "HW2 คำนวณเวลาเป็นวินาทีของเวลาต่อไปนี้โดยใช้คำสั่ง split() ช่วย (print ออกมาให้สวยงาม)\n",
        "-  12:30:15\n",
        "- 13:41:07\n",
        "- 09:11:50\n",
        "- 21:30:15\n",
        "- 01:10:15"
      ],
      "metadata": {
        "id": "q1GnvG9DzWwo"
      }
    },
    {
      "cell_type": "code",
      "source": [
        "# 12:30:15\n",
        "ex = '12:30:15'\n",
        "sp_ex = ex.split(':')\n",
        "print(sp_ex)\n",
        "total_sec = (int(sp_ex[0])*60*60) + (int(sp_ex[1])*60) + int(sp_ex[2])\n",
        "print(f'เวลา {ex} สามารถแปลงเป็นหน่วยวินาทีได้ {total_sec:,} วินาที')"
      ],
      "metadata": {
        "id": "sUVy1ssL1ovS",
        "outputId": "e84d1a25-5926-4cea-f294-db9200b23980",
        "colab": {
          "base_uri": "https://localhost:8080/"
        }
      },
      "execution_count": 33,
      "outputs": [
        {
          "output_type": "stream",
          "name": "stdout",
          "text": [
            "['12', '30', '15']\n",
            "เวลา 12:30:15 สามารถแปลงเป็นหน่วยวินาทีได้ 45,015 วินาที\n"
          ]
        }
      ]
    },
    {
      "cell_type": "code",
      "source": [
        "# 13:41:07\n",
        "ex1 = '13:41:07'\n",
        "sp_ex1 = ex.split(':')\n",
        "print(sp_ex1)\n",
        "total_sec1 = (int(sp_ex1[0])*60*60) + (int(sp_ex1[1])*60) + int(sp_ex1[2])\n",
        "print(f'เวลา {ex1} สามารถแปลงเป็นหน่วยวินาทีได้ {total_sec1:,} วินาที')"
      ],
      "metadata": {
        "id": "VmqdNPhxbIYs",
        "outputId": "398f9d8e-4275-4e46-fd35-3e36e321268e",
        "colab": {
          "base_uri": "https://localhost:8080/"
        }
      },
      "execution_count": 34,
      "outputs": [
        {
          "output_type": "stream",
          "name": "stdout",
          "text": [
            "['12', '30', '15']\n",
            "เวลา 13:41:07 สามารถแปลงเป็นหน่วยวินาทีได้ 45,015 วินาที\n"
          ]
        }
      ]
    },
    {
      "cell_type": "code",
      "source": [
        "# 09:11:50\n",
        "ex2 = '09:11:50'\n",
        "sp_ex2 = ex.split(':')\n",
        "print(sp_ex2)\n",
        "total_sec2 = (int(sp_ex2[0])*60*60) + (int(sp_ex2[1])*60) + int(sp_ex2[2])\n",
        "print(f'เวลา {ex2} สามารถแปลงเป็นหน่วยวินาทีได้ {total_sec2:,} วินาที')"
      ],
      "metadata": {
        "id": "IMg_tJbVbSc4",
        "outputId": "ebb9d0df-e4fc-4509-d9a0-9aceb56f4e29",
        "colab": {
          "base_uri": "https://localhost:8080/"
        }
      },
      "execution_count": 35,
      "outputs": [
        {
          "output_type": "stream",
          "name": "stdout",
          "text": [
            "['12', '30', '15']\n",
            "เวลา 09:11:50 สามารถแปลงเป็นหน่วยวินาทีได้ 45,015 วินาที\n"
          ]
        }
      ]
    },
    {
      "cell_type": "code",
      "source": [
        "# 21:30:15\n",
        "ex3 = '21:30:15'\n",
        "sp_ex3 = ex.split(':')\n",
        "print(sp_ex3)\n",
        "total_sec3 = (int(sp_ex3[0])*60*60) + (int(sp_ex3[1])*60) + int(sp_ex3[2])\n",
        "print(f'เวลา {ex3} สามารถแปลงเป็นหน่วยวินาทีได้ {total_sec3:,} วินาที')"
      ],
      "metadata": {
        "id": "3eTX58N6bsBb",
        "outputId": "7365544b-9c8f-4b8d-fbbe-55216642d7e4",
        "colab": {
          "base_uri": "https://localhost:8080/"
        }
      },
      "execution_count": 36,
      "outputs": [
        {
          "output_type": "stream",
          "name": "stdout",
          "text": [
            "['12', '30', '15']\n",
            "เวลา 21:30:15 สามารถแปลงเป็นหน่วยวินาทีได้ 45,015 วินาที\n"
          ]
        }
      ]
    },
    {
      "cell_type": "code",
      "source": [
        "# 01:10:15\n",
        "ex4 = '21:30:15'\n",
        "sp_ex4 = ex.split(':')\n",
        "print(sp_ex4)\n",
        "total_sec4 = (int(sp_ex4[0])*60*60) + (int(sp_ex4[1])*60) + int(sp_ex4[2])\n",
        "print(f'เวลา {ex4} สามารถแปลงเป็นหน่วยวินาทีได้ {total_sec4:,} วินาที')"
      ],
      "metadata": {
        "id": "twO3Vk26b8Lg",
        "outputId": "eae26239-bdbb-48c1-a306-5fc42e13c2cf",
        "colab": {
          "base_uri": "https://localhost:8080/"
        }
      },
      "execution_count": 37,
      "outputs": [
        {
          "output_type": "stream",
          "name": "stdout",
          "text": [
            "['12', '30', '15']\n",
            "เวลา 21:30:15 สามารถแปลงเป็นหน่วยวินาทีได้ 45,015 วินาที\n"
          ]
        }
      ]
    },
    {
      "cell_type": "markdown",
      "source": [
        "# Dictionary"
      ],
      "metadata": {
        "id": "T9ce4Wi6ADkR"
      }
    },
    {
      "cell_type": "markdown",
      "source": [
        "- คล้าย list()\n",
        "- index เป็นอะไรก็ได้ไม่จำเป็นต้องเป็นตัวเลขลำดับ\n",
        "- ลำดับไม่มีความสำคัญ"
      ],
      "metadata": {
        "id": "ADtaElxsAYK_"
      }
    },
    {
      "cell_type": "code",
      "source": [
        "dict_a = {1:'Happy','N':'New','2022':'Year'} # { } curly brackets"
      ],
      "metadata": {
        "id": "K-Ta5cF7AzuT"
      },
      "execution_count": null,
      "outputs": []
    },
    {
      "cell_type": "code",
      "source": [
        "dict_a[1]"
      ],
      "metadata": {
        "id": "V4Lx0KhEBZ1s",
        "outputId": "2d449636-da0f-4253-ad66-e79660916765",
        "colab": {
          "base_uri": "https://localhost:8080/",
          "height": 35
        }
      },
      "execution_count": null,
      "outputs": [
        {
          "output_type": "execute_result",
          "data": {
            "text/plain": [
              "'Happy'"
            ],
            "application/vnd.google.colaboratory.intrinsic+json": {
              "type": "string"
            }
          },
          "metadata": {},
          "execution_count": 75
        }
      ]
    },
    {
      "cell_type": "code",
      "source": [
        "dict_a['N']"
      ],
      "metadata": {
        "id": "G9VzswWbBdwo",
        "outputId": "0dcc39ee-d7f7-4233-fb6a-1f6267135c9d",
        "colab": {
          "base_uri": "https://localhost:8080/",
          "height": 35
        }
      },
      "execution_count": null,
      "outputs": [
        {
          "output_type": "execute_result",
          "data": {
            "text/plain": [
              "'New'"
            ],
            "application/vnd.google.colaboratory.intrinsic+json": {
              "type": "string"
            }
          },
          "metadata": {},
          "execution_count": 76
        }
      ]
    },
    {
      "cell_type": "code",
      "source": [
        "dict_a.keys()"
      ],
      "metadata": {
        "id": "CjIixoqLCHw9",
        "outputId": "495456a2-1cd5-4c8a-dfe7-9cea6593ec5a",
        "colab": {
          "base_uri": "https://localhost:8080/"
        }
      },
      "execution_count": null,
      "outputs": [
        {
          "output_type": "execute_result",
          "data": {
            "text/plain": [
              "dict_keys([1, 'N', '2022'])"
            ]
          },
          "metadata": {},
          "execution_count": 77
        }
      ]
    },
    {
      "cell_type": "code",
      "source": [
        "dict_a.values()"
      ],
      "metadata": {
        "id": "LvLt1zaZCKn6",
        "outputId": "6ff6b47d-b9a5-42c3-b6df-f3d27c61a524",
        "colab": {
          "base_uri": "https://localhost:8080/"
        }
      },
      "execution_count": null,
      "outputs": [
        {
          "output_type": "execute_result",
          "data": {
            "text/plain": [
              "dict_values(['Happy', 'New', 'Year'])"
            ]
          },
          "metadata": {},
          "execution_count": 78
        }
      ]
    },
    {
      "cell_type": "markdown",
      "source": [
        "### การเพิ่มสมาชิกลงไปใน Dictionary"
      ],
      "metadata": {
        "id": "u0fcxBloCURU"
      }
    },
    {
      "cell_type": "code",
      "source": [
        "dict_a[7] = 3.14"
      ],
      "metadata": {
        "id": "oFTgKUfeCtF2"
      },
      "execution_count": null,
      "outputs": []
    },
    {
      "cell_type": "code",
      "source": [
        "dict_a"
      ],
      "metadata": {
        "id": "7DgWioX9Cx8f",
        "outputId": "8573f15f-54a6-417e-a247-1d628d1c03ac",
        "colab": {
          "base_uri": "https://localhost:8080/"
        }
      },
      "execution_count": null,
      "outputs": [
        {
          "output_type": "execute_result",
          "data": {
            "text/plain": [
              "{1: 'Happy', '2022': 'Year', 7: 3.14, 'N': 'New'}"
            ]
          },
          "metadata": {},
          "execution_count": 80
        }
      ]
    },
    {
      "cell_type": "code",
      "source": [
        "dict_a['N'] = 'NNNNEEEEWWWW'"
      ],
      "metadata": {
        "id": "4okopI-EC1Sg"
      },
      "execution_count": null,
      "outputs": []
    },
    {
      "cell_type": "code",
      "source": [
        "dict_a"
      ],
      "metadata": {
        "id": "5ucQ3UIhC3pr",
        "outputId": "55c08cae-071e-4a44-aac1-cdaafda19386",
        "colab": {
          "base_uri": "https://localhost:8080/"
        }
      },
      "execution_count": null,
      "outputs": [
        {
          "output_type": "execute_result",
          "data": {
            "text/plain": [
              "{1: 'Happy', '2022': 'Year', 7: 3.14, 'N': 'NNNNEEEEWWWW'}"
            ]
          },
          "metadata": {},
          "execution_count": 82
        }
      ]
    },
    {
      "cell_type": "markdown",
      "source": [
        "#Numpy Array\n",
        "![259367185_324142206174802_9184974019736826313_n.png](data:image/png;base64,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)"
      ],
      "metadata": {
        "id": "0-eON6DdAGSh"
      }
    },
    {
      "cell_type": "markdown",
      "source": [
        "- เก็บได้แค่ตัวเลข\n",
        "- อ้างอิงโดยใช้พิกัด (2มิติ ก็มองเป็น Matrix)"
      ],
      "metadata": {
        "id": "pbPpVJQdDTan"
      }
    },
    {
      "cell_type": "code",
      "source": [
        "import numpy"
      ],
      "metadata": {
        "id": "g0ZMhmU2DX0d"
      },
      "execution_count": 38,
      "outputs": []
    },
    {
      "cell_type": "markdown",
      "source": [
        "### 1D array"
      ],
      "metadata": {
        "id": "a3fPuCs4Dbe9"
      }
    },
    {
      "cell_type": "code",
      "source": [
        "list_A = [1,2,3,4,5]"
      ],
      "metadata": {
        "id": "GDrHthldDe1d"
      },
      "execution_count": 39,
      "outputs": []
    },
    {
      "cell_type": "code",
      "source": [
        "arr_a = numpy.array(list_A)"
      ],
      "metadata": {
        "id": "ipO9jvZDDhb1"
      },
      "execution_count": 40,
      "outputs": []
    },
    {
      "cell_type": "code",
      "source": [
        "arr_a"
      ],
      "metadata": {
        "id": "WGSVocSZDjyn",
        "outputId": "86fef022-f01c-4ad1-8395-067fbca57f70",
        "colab": {
          "base_uri": "https://localhost:8080/"
        }
      },
      "execution_count": 41,
      "outputs": [
        {
          "output_type": "execute_result",
          "data": {
            "text/plain": [
              "array([1, 2, 3, 4, 5])"
            ]
          },
          "metadata": {},
          "execution_count": 41
        }
      ]
    },
    {
      "cell_type": "code",
      "source": [
        "list_A"
      ],
      "metadata": {
        "id": "ZGztKzdXDmJT",
        "outputId": "0101b45d-b304-401b-acbd-37a2ab00326e",
        "colab": {
          "base_uri": "https://localhost:8080/"
        }
      },
      "execution_count": 42,
      "outputs": [
        {
          "output_type": "execute_result",
          "data": {
            "text/plain": [
              "[1, 2, 3, 4, 5]"
            ]
          },
          "metadata": {},
          "execution_count": 42
        }
      ]
    },
    {
      "cell_type": "code",
      "source": [
        "arr_a[0]"
      ],
      "metadata": {
        "id": "mKuytKmNDo8b",
        "outputId": "3a1e6bb7-ff95-44e6-af0f-3cb2553b5e08",
        "colab": {
          "base_uri": "https://localhost:8080/"
        }
      },
      "execution_count": 43,
      "outputs": [
        {
          "output_type": "execute_result",
          "data": {
            "text/plain": [
              "1"
            ]
          },
          "metadata": {},
          "execution_count": 43
        }
      ]
    },
    {
      "cell_type": "code",
      "source": [
        "list_A[0]"
      ],
      "metadata": {
        "id": "88S-mGUeDsIN",
        "outputId": "6abb22b2-ef09-4d10-99b6-df50f7909e45",
        "colab": {
          "base_uri": "https://localhost:8080/"
        }
      },
      "execution_count": 44,
      "outputs": [
        {
          "output_type": "execute_result",
          "data": {
            "text/plain": [
              "1"
            ]
          },
          "metadata": {},
          "execution_count": 44
        }
      ]
    },
    {
      "cell_type": "code",
      "source": [
        "5 * arr_a # Matrix (scalar multiplication)"
      ],
      "metadata": {
        "id": "KRg1Yt0UDw4R",
        "outputId": "ae9c1b71-d99d-47e4-aa9d-8eedef96a72a",
        "colab": {
          "base_uri": "https://localhost:8080/"
        }
      },
      "execution_count": 45,
      "outputs": [
        {
          "output_type": "execute_result",
          "data": {
            "text/plain": [
              "array([ 5, 10, 15, 20, 25])"
            ]
          },
          "metadata": {},
          "execution_count": 45
        }
      ]
    },
    {
      "cell_type": "code",
      "source": [
        "5 * list_A"
      ],
      "metadata": {
        "id": "Ql0Wwqb4Dzon",
        "outputId": "8ef751ae-0a49-4744-cda8-9d239d5da270",
        "colab": {
          "base_uri": "https://localhost:8080/"
        }
      },
      "execution_count": 46,
      "outputs": [
        {
          "output_type": "execute_result",
          "data": {
            "text/plain": [
              "[1, 2, 3, 4, 5, 1, 2, 3, 4, 5, 1, 2, 3, 4, 5, 1, 2, 3, 4, 5, 1, 2, 3, 4, 5]"
            ]
          },
          "metadata": {},
          "execution_count": 46
        }
      ]
    },
    {
      "cell_type": "code",
      "source": [
        "arr_b = numpy.array([10,20,30,40,50])"
      ],
      "metadata": {
        "id": "JZdUtUBXD2nJ"
      },
      "execution_count": 47,
      "outputs": []
    },
    {
      "cell_type": "code",
      "source": [
        "print(arr_a)"
      ],
      "metadata": {
        "id": "FNr1YimFD5QT",
        "outputId": "1b7bddef-ed18-42f7-aaab-797719719a20",
        "colab": {
          "base_uri": "https://localhost:8080/"
        }
      },
      "execution_count": 48,
      "outputs": [
        {
          "output_type": "stream",
          "name": "stdout",
          "text": [
            "[1 2 3 4 5]\n"
          ]
        }
      ]
    },
    {
      "cell_type": "code",
      "source": [
        "arr_a + arr_b"
      ],
      "metadata": {
        "id": "3iUXvizMD767",
        "outputId": "6ec09fdd-4312-4982-e539-81d0cc93a4fe",
        "colab": {
          "base_uri": "https://localhost:8080/"
        }
      },
      "execution_count": 49,
      "outputs": [
        {
          "output_type": "execute_result",
          "data": {
            "text/plain": [
              "array([11, 22, 33, 44, 55])"
            ]
          },
          "metadata": {},
          "execution_count": 49
        }
      ]
    },
    {
      "cell_type": "code",
      "source": [
        "arr_a.shape"
      ],
      "metadata": {
        "id": "AdsHntRAD-wV",
        "outputId": "3d0ed8f9-1735-44e5-a1a9-0fba3bf9c16c",
        "colab": {
          "base_uri": "https://localhost:8080/"
        }
      },
      "execution_count": 50,
      "outputs": [
        {
          "output_type": "execute_result",
          "data": {
            "text/plain": [
              "(5,)"
            ]
          },
          "metadata": {},
          "execution_count": 50
        }
      ]
    },
    {
      "cell_type": "markdown",
      "source": [
        "### 2D array"
      ],
      "metadata": {
        "id": "OPhJ_fpmEDCe"
      }
    },
    {
      "cell_type": "code",
      "source": [
        "import numpy as np"
      ],
      "metadata": {
        "id": "4B_wx80-EEHN"
      },
      "execution_count": 51,
      "outputs": []
    },
    {
      "cell_type": "code",
      "source": [
        "arr2_z = np.array([[1,2,3],[4,5,6]])"
      ],
      "metadata": {
        "id": "P7D-EeXQEI5y"
      },
      "execution_count": 52,
      "outputs": []
    },
    {
      "cell_type": "code",
      "source": [
        "arr2_z"
      ],
      "metadata": {
        "id": "XDhzNzuPtBue",
        "outputId": "d771ab0a-07cb-43ec-afc7-638d45368dbb",
        "colab": {
          "base_uri": "https://localhost:8080/"
        }
      },
      "execution_count": 53,
      "outputs": [
        {
          "output_type": "execute_result",
          "data": {
            "text/plain": [
              "array([[1, 2, 3],\n",
              "       [4, 5, 6]])"
            ]
          },
          "metadata": {},
          "execution_count": 53
        }
      ]
    },
    {
      "cell_type": "code",
      "source": [
        "arr2_z.shape"
      ],
      "metadata": {
        "id": "0yrPQHdnEMeu",
        "outputId": "181a6a1a-9c07-4734-89c5-7207a4b03bda",
        "colab": {
          "base_uri": "https://localhost:8080/"
        }
      },
      "execution_count": 54,
      "outputs": [
        {
          "output_type": "execute_result",
          "data": {
            "text/plain": [
              "(2, 3)"
            ]
          },
          "metadata": {},
          "execution_count": 54
        }
      ]
    },
    {
      "cell_type": "markdown",
      "source": [
        "### `np.zeros ()`\n",
        "\n"
      ],
      "metadata": {
        "id": "3fQzwhSYElO8"
      }
    },
    {
      "cell_type": "code",
      "source": [
        "arr2_3_5_0 = np.zeros((3,5))"
      ],
      "metadata": {
        "id": "AdZ6EhPOEuQ2"
      },
      "execution_count": 56,
      "outputs": []
    },
    {
      "cell_type": "code",
      "source": [
        "arr2_3_5_0"
      ],
      "metadata": {
        "id": "FIO0j26yE2HQ",
        "outputId": "3fa03fd4-ce23-4ffb-d59a-66e982b9d9cd",
        "colab": {
          "base_uri": "https://localhost:8080/"
        }
      },
      "execution_count": 57,
      "outputs": [
        {
          "output_type": "execute_result",
          "data": {
            "text/plain": [
              "array([[0., 0., 0., 0., 0.],\n",
              "       [0., 0., 0., 0., 0.],\n",
              "       [0., 0., 0., 0., 0.]])"
            ]
          },
          "metadata": {},
          "execution_count": 57
        }
      ]
    },
    {
      "cell_type": "code",
      "source": [
        "arr2_3_5_0[1,2] = 9 # กำหนดค่า"
      ],
      "metadata": {
        "id": "Jgws8TN0E4ls"
      },
      "execution_count": 58,
      "outputs": []
    },
    {
      "cell_type": "code",
      "source": [
        "arr2_3_5_0"
      ],
      "metadata": {
        "id": "9Ik1jMgMhLU9",
        "outputId": "38a4d32a-05fe-46b8-9284-85ed68cb1124",
        "colab": {
          "base_uri": "https://localhost:8080/"
        }
      },
      "execution_count": 60,
      "outputs": [
        {
          "output_type": "execute_result",
          "data": {
            "text/plain": [
              "array([[0., 0., 0., 0., 0.],\n",
              "       [0., 0., 9., 0., 0.],\n",
              "       [0., 0., 0., 0., 0.]])"
            ]
          },
          "metadata": {},
          "execution_count": 60
        }
      ]
    },
    {
      "cell_type": "code",
      "source": [
        "arr2_3_5_0[1,2] # ชี้"
      ],
      "metadata": {
        "id": "rr6NrgwwE7Y-",
        "outputId": "640ea828-c33e-4bcf-add8-bde765cb5fab",
        "colab": {
          "base_uri": "https://localhost:8080/"
        }
      },
      "execution_count": 59,
      "outputs": [
        {
          "output_type": "execute_result",
          "data": {
            "text/plain": [
              "9.0"
            ]
          },
          "metadata": {},
          "execution_count": 59
        }
      ]
    },
    {
      "cell_type": "code",
      "source": [
        "print(list_A) # เปลี่ยนค่าใน list()\n",
        "list_A[-1] = 'Chrismas'\n",
        "print(list_A)"
      ],
      "metadata": {
        "id": "nweRBe-4E-ow",
        "outputId": "6aa34915-f33c-4145-f54e-b16dbb5c3d09",
        "colab": {
          "base_uri": "https://localhost:8080/"
        }
      },
      "execution_count": null,
      "outputs": [
        {
          "output_type": "stream",
          "name": "stdout",
          "text": [
            "[1, 2, 3, 4, 5]\n",
            "[1, 2, 3, 4, 'Chrismas']\n"
          ]
        }
      ]
    },
    {
      "cell_type": "code",
      "source": [
        "arr2_3_5_0[]"
      ],
      "metadata": {
        "id": "h73giZ5tFEs4",
        "outputId": "a4a8d742-4f85-40bb-cd03-cee8ead8f332",
        "colab": {
          "base_uri": "https://localhost:8080/",
          "height": 130
        }
      },
      "execution_count": null,
      "outputs": [
        {
          "output_type": "error",
          "ename": "SyntaxError",
          "evalue": "ignored",
          "traceback": [
            "\u001b[0;36m  File \u001b[0;32m\"<ipython-input-105-5cb2b6c91340>\"\u001b[0;36m, line \u001b[0;32m1\u001b[0m\n\u001b[0;31m    arr2_3_5_0[]\u001b[0m\n\u001b[0m               ^\u001b[0m\n\u001b[0;31mSyntaxError\u001b[0m\u001b[0;31m:\u001b[0m invalid syntax\n"
          ]
        }
      ]
    },
    {
      "cell_type": "markdown",
      "source": [
        "### `np.ones()` \n",
        "\n"
      ],
      "metadata": {
        "id": "dJ702cmRFUVs"
      }
    },
    {
      "cell_type": "code",
      "source": [
        "arr2_4_5_1 = np.ones((4,5))"
      ],
      "metadata": {
        "id": "al5n7kWqFqYq"
      },
      "execution_count": null,
      "outputs": []
    },
    {
      "cell_type": "code",
      "source": [
        "arr2_4_5_1"
      ],
      "metadata": {
        "id": "uhiyjuM-FvGo",
        "outputId": "4079ebbc-7284-4234-e219-6b9848ec77dc",
        "colab": {
          "base_uri": "https://localhost:8080/"
        }
      },
      "execution_count": null,
      "outputs": [
        {
          "output_type": "execute_result",
          "data": {
            "text/plain": [
              "array([[1., 1., 1., 1., 1.],\n",
              "       [1., 1., 1., 1., 1.],\n",
              "       [1., 1., 1., 1., 1.],\n",
              "       [1., 1., 1., 1., 1.]])"
            ]
          },
          "metadata": {},
          "execution_count": 107
        }
      ]
    },
    {
      "cell_type": "code",
      "source": [
        "arr2_4_5_200 = 200*np.ones((4,5))"
      ],
      "metadata": {
        "id": "-8EITXaRF2rr"
      },
      "execution_count": null,
      "outputs": []
    },
    {
      "cell_type": "code",
      "source": [
        "arr2_4_5_200"
      ],
      "metadata": {
        "id": "f8ymxLzfNkjB",
        "outputId": "5a437bd2-405b-4427-a58d-1ae9308a9981",
        "colab": {
          "base_uri": "https://localhost:8080/"
        }
      },
      "execution_count": null,
      "outputs": [
        {
          "output_type": "execute_result",
          "data": {
            "text/plain": [
              "array([[200., 200., 200., 200., 200.],\n",
              "       [200., 200., 200., 200., 200.],\n",
              "       [200., 200., 200., 200., 200.],\n",
              "       [200., 200., 200., 200., 200.]])"
            ]
          },
          "metadata": {},
          "execution_count": 109
        }
      ]
    },
    {
      "cell_type": "markdown",
      "source": [
        "### Matrix operations"
      ],
      "metadata": {
        "id": "rTYPB4fcNo3A"
      }
    },
    {
      "cell_type": "markdown",
      "source": [
        "#### การบวก ลบ matrix $M \\pm N$ บวกลบตัวที่อยู่ตำแหน่งเดียวกัน"
      ],
      "metadata": {
        "id": "i5raJOCSN1P4"
      }
    },
    {
      "cell_type": "code",
      "source": [
        "arr2_4_5_200 + arr2_3_5_0 # การบวก ลบ matrix shape ต้องเท่ากัน"
      ],
      "metadata": {
        "id": "9aB8-5GnN8fj",
        "outputId": "1fe25a83-14ae-474a-aaa3-54da395946c7",
        "colab": {
          "base_uri": "https://localhost:8080/",
          "height": 165
        }
      },
      "execution_count": null,
      "outputs": [
        {
          "output_type": "error",
          "ename": "ValueError",
          "evalue": "ignored",
          "traceback": [
            "\u001b[0;31m---------------------------------------------------------------------------\u001b[0m",
            "\u001b[0;31mValueError\u001b[0m                                Traceback (most recent call last)",
            "\u001b[0;32m<ipython-input-110-20644b9f025a>\u001b[0m in \u001b[0;36m<module>\u001b[0;34m()\u001b[0m\n\u001b[0;32m----> 1\u001b[0;31m \u001b[0marr2_4_5_200\u001b[0m \u001b[0;34m+\u001b[0m \u001b[0marr2_3_5_0\u001b[0m \u001b[0;31m# การบวก ลบ matrix shape ต้องเท่ากัน\u001b[0m\u001b[0;34m\u001b[0m\u001b[0;34m\u001b[0m\u001b[0m\n\u001b[0m",
            "\u001b[0;31mValueError\u001b[0m: operands could not be broadcast together with shapes (4,5) (3,5) "
          ]
        }
      ]
    },
    {
      "cell_type": "code",
      "source": [
        "arr2_4_5_200 + arr2_4_5_1"
      ],
      "metadata": {
        "id": "Us2DcS-qNprh",
        "outputId": "f055a425-6df4-41a1-aa47-567b60a6c430",
        "colab": {
          "base_uri": "https://localhost:8080/"
        }
      },
      "execution_count": null,
      "outputs": [
        {
          "output_type": "execute_result",
          "data": {
            "text/plain": [
              "array([[201., 201., 201., 201., 201.],\n",
              "       [201., 201., 201., 201., 201.],\n",
              "       [201., 201., 201., 201., 201.],\n",
              "       [201., 201., 201., 201., 201.]])"
            ]
          },
          "metadata": {},
          "execution_count": 111
        }
      ]
    },
    {
      "cell_type": "markdown",
      "source": [
        "#### การคูณ matrix\n",
        "- $aM$ scalar คูณ Matrix (scalar คูณกระจายเข้าไปทุกตัวของ Matrix)\n",
        "- $M\\times N$ Matrix คูณ Matrix (แถวคูณหลัก)"
      ],
      "metadata": {
        "id": "WQ9I7tX8ONCW"
      }
    },
    {
      "cell_type": "markdown",
      "source": [
        "$aM$"
      ],
      "metadata": {
        "id": "o5F-Y1wuOT3_"
      }
    },
    {
      "cell_type": "code",
      "source": [
        "5 * arr_a # Matrix (scalar multiplication)"
      ],
      "metadata": {
        "id": "9-yl2yWEOJmZ"
      },
      "execution_count": null,
      "outputs": []
    },
    {
      "cell_type": "markdown",
      "source": [
        "$M\\times N$ (dot product)\n",
        "- (m,n) $\\times$ (n,o) = (m,o) (Shape)\n",
        "![287329384_460640622164674_513300267578994013_n.png](data:image/png;base64,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)"
      ],
      "metadata": {
        "id": "bQ6jlfhCOdgY"
      }
    },
    {
      "cell_type": "code",
      "source": [
        "mat_a = np.array([[2,3,5],[4,6,7]])\n",
        "mat_b = np.array([[1,2,5],[2,4,-7]])\n",
        "mat_c = np.array([[2,3],[4,6],[7,9]])"
      ],
      "metadata": {
        "id": "9lSyQsjIOrwt"
      },
      "execution_count": null,
      "outputs": []
    },
    {
      "cell_type": "code",
      "source": [
        "mat_a"
      ],
      "metadata": {
        "id": "6ZG-sQ-3Ouel",
        "outputId": "eae2d3d2-dd35-4394-eba6-b650af8ee64e",
        "colab": {
          "base_uri": "https://localhost:8080/"
        }
      },
      "execution_count": null,
      "outputs": [
        {
          "output_type": "execute_result",
          "data": {
            "text/plain": [
              "array([[2, 3, 5],\n",
              "       [4, 6, 7]])"
            ]
          },
          "metadata": {},
          "execution_count": 113
        }
      ]
    },
    {
      "cell_type": "code",
      "source": [
        "mat_b"
      ],
      "metadata": {
        "id": "QIEpx7sFOw5Q",
        "outputId": "c400fc02-f7a1-49af-eed4-dba147489639",
        "colab": {
          "base_uri": "https://localhost:8080/"
        }
      },
      "execution_count": null,
      "outputs": [
        {
          "output_type": "execute_result",
          "data": {
            "text/plain": [
              "array([[ 1,  2,  5],\n",
              "       [ 2,  4, -7]])"
            ]
          },
          "metadata": {},
          "execution_count": 114
        }
      ]
    },
    {
      "cell_type": "code",
      "source": [
        "mat_c"
      ],
      "metadata": {
        "id": "Yl9rE1mZOyEi",
        "outputId": "3d9a5676-2707-4fd9-aa3d-71f9afc492b0",
        "colab": {
          "base_uri": "https://localhost:8080/"
        }
      },
      "execution_count": null,
      "outputs": [
        {
          "output_type": "execute_result",
          "data": {
            "text/plain": [
              "array([[2, 3],\n",
              "       [4, 6],\n",
              "       [7, 9]])"
            ]
          },
          "metadata": {},
          "execution_count": 115
        }
      ]
    },
    {
      "cell_type": "markdown",
      "source": [
        "axc, bxc"
      ],
      "metadata": {
        "id": "dvKLEv_8O7wb"
      }
    },
    {
      "cell_type": "code",
      "source": [
        "np.dot(mat_a,mat_c)"
      ],
      "metadata": {
        "id": "Nz8G7mA3PAy7",
        "outputId": "2fd6e922-0b0d-425c-d42d-457c4feee425",
        "colab": {
          "base_uri": "https://localhost:8080/"
        }
      },
      "execution_count": null,
      "outputs": [
        {
          "output_type": "execute_result",
          "data": {
            "text/plain": [
              "array([[ 51,  69],\n",
              "       [ 81, 111]])"
            ]
          },
          "metadata": {},
          "execution_count": 116
        }
      ]
    },
    {
      "cell_type": "code",
      "source": [
        "np.dot(mat_b,mat_c)"
      ],
      "metadata": {
        "id": "jdA9hbWtPIF0",
        "outputId": "1ad9641f-a3ea-4146-c07f-a16053ffae2a",
        "colab": {
          "base_uri": "https://localhost:8080/"
        }
      },
      "execution_count": null,
      "outputs": [
        {
          "output_type": "execute_result",
          "data": {
            "text/plain": [
              "array([[ 45,  60],\n",
              "       [-29, -33]])"
            ]
          },
          "metadata": {},
          "execution_count": 117
        }
      ]
    },
    {
      "cell_type": "markdown",
      "source": [
        "cxa, cxb"
      ],
      "metadata": {
        "id": "dN2VMX_JPLaf"
      }
    },
    {
      "cell_type": "code",
      "source": [
        "np.dot(mat_c,mat_a)"
      ],
      "metadata": {
        "id": "I77wC4lwPMg-",
        "outputId": "b1028aa8-abd0-42fa-8bdf-7352ea46b0aa",
        "colab": {
          "base_uri": "https://localhost:8080/"
        }
      },
      "execution_count": null,
      "outputs": [
        {
          "output_type": "execute_result",
          "data": {
            "text/plain": [
              "array([[16, 24, 31],\n",
              "       [32, 48, 62],\n",
              "       [50, 75, 98]])"
            ]
          },
          "metadata": {},
          "execution_count": 118
        }
      ]
    },
    {
      "cell_type": "code",
      "source": [
        "mat_X = np.dot(mat_c,mat_b)\n",
        "print(mat_X)"
      ],
      "metadata": {
        "id": "OK-J5qJGPRGU",
        "outputId": "6e17aa03-f819-4e79-ef3f-6f33efaec7d6",
        "colab": {
          "base_uri": "https://localhost:8080/"
        }
      },
      "execution_count": null,
      "outputs": [
        {
          "output_type": "stream",
          "name": "stdout",
          "text": [
            "[[  8  16 -11]\n",
            " [ 16  32 -22]\n",
            " [ 25  50 -28]]\n"
          ]
        }
      ]
    },
    {
      "cell_type": "code",
      "source": [
        "mat_a * mat_b # คูณตัวตำแหน่งเดียวกัน"
      ],
      "metadata": {
        "id": "q40-poxKPb_R",
        "outputId": "dd76a700-e3af-4603-a689-b909454123e4",
        "colab": {
          "base_uri": "https://localhost:8080/"
        }
      },
      "execution_count": null,
      "outputs": [
        {
          "output_type": "execute_result",
          "data": {
            "text/plain": [
              "array([[  2,   6,  25],\n",
              "       [  8,  24, -49]])"
            ]
          },
          "metadata": {},
          "execution_count": 121
        }
      ]
    },
    {
      "cell_type": "markdown",
      "source": [
        "### Matrix Slicing"
      ],
      "metadata": {
        "id": "B2iyjzRwPfvK"
      }
    },
    {
      "cell_type": "code",
      "source": [
        "mat_X[:2,:2]"
      ],
      "metadata": {
        "id": "0dLq7hdDPgrm",
        "outputId": "a6d3ead4-c2ba-4be4-9f2f-99a0e538f7a4",
        "colab": {
          "base_uri": "https://localhost:8080/"
        }
      },
      "execution_count": null,
      "outputs": [
        {
          "output_type": "execute_result",
          "data": {
            "text/plain": [
              "array([[ 8, 16],\n",
              "       [16, 32]])"
            ]
          },
          "metadata": {},
          "execution_count": 122
        }
      ]
    },
    {
      "cell_type": "markdown",
      "source": [
        "HW3\n",
        "1. สร้าง array ที่เป็นรูปต้น Chrismas\n",
        "2. slice เลข 1 ออกมาจาก array HW3 ด้วยการ slice แค่ครั้งเดียว"
      ],
      "metadata": {
        "id": "c3oQ4meOPljX"
      }
    },
    {
      "cell_type": "code",
      "source": [
        "HW3 = np.zeros((10,10))\n",
        "HW3"
      ],
      "metadata": {
        "id": "UfETnxn8PmQq",
        "outputId": "bafac664-258e-4ca0-c06a-9f57fa7372ea",
        "colab": {
          "base_uri": "https://localhost:8080/"
        }
      },
      "execution_count": null,
      "outputs": [
        {
          "output_type": "execute_result",
          "data": {
            "text/plain": [
              "array([[0., 0., 0., 0., 0., 0., 0., 0., 0., 0.],\n",
              "       [0., 0., 0., 0., 0., 0., 0., 0., 0., 0.],\n",
              "       [0., 0., 0., 0., 0., 0., 0., 0., 0., 0.],\n",
              "       [0., 0., 0., 0., 0., 0., 0., 0., 0., 0.],\n",
              "       [0., 0., 0., 0., 0., 0., 0., 0., 0., 0.],\n",
              "       [0., 0., 0., 0., 0., 0., 0., 0., 0., 0.],\n",
              "       [0., 0., 0., 0., 0., 0., 0., 0., 0., 0.],\n",
              "       [0., 0., 0., 0., 0., 0., 0., 0., 0., 0.],\n",
              "       [0., 0., 0., 0., 0., 0., 0., 0., 0., 0.],\n",
              "       [0., 0., 0., 0., 0., 0., 0., 0., 0., 0.]])"
            ]
          },
          "metadata": {},
          "execution_count": 123
        }
      ]
    },
    {
      "cell_type": "code",
      "source": [
        "HW3[::4,2] = 1\n",
        "HW3[::4,4] = 1\n",
        "HW3[::4,6] = 1\n",
        "HW3[::4,8] = 1\n",
        "HW3"
      ],
      "metadata": {
        "id": "dyQ_FKuSPsmo",
        "outputId": "7c6b66bd-594a-459c-8b05-891193a02dc8",
        "colab": {
          "base_uri": "https://localhost:8080/"
        }
      },
      "execution_count": null,
      "outputs": [
        {
          "output_type": "execute_result",
          "data": {
            "text/plain": [
              "array([[0., 0., 1., 0., 1., 0., 1., 0., 1., 0.],\n",
              "       [0., 0., 0., 0., 0., 0., 0., 0., 0., 0.],\n",
              "       [0., 0., 0., 0., 0., 0., 0., 0., 0., 0.],\n",
              "       [0., 0., 0., 0., 0., 0., 0., 0., 0., 0.],\n",
              "       [0., 0., 1., 0., 1., 0., 1., 0., 1., 0.],\n",
              "       [0., 0., 0., 0., 0., 0., 0., 0., 0., 0.],\n",
              "       [0., 0., 0., 0., 0., 0., 0., 0., 0., 0.],\n",
              "       [0., 0., 0., 0., 0., 0., 0., 0., 0., 0.],\n",
              "       [0., 0., 1., 0., 1., 0., 1., 0., 1., 0.],\n",
              "       [0., 0., 0., 0., 0., 0., 0., 0., 0., 0.]])"
            ]
          },
          "metadata": {},
          "execution_count": 124
        }
      ]
    },
    {
      "cell_type": "markdown",
      "source": [
        "# Pandas Dataframe (แยกออกไปเป็น Notebook เฉพาะ)"
      ],
      "metadata": {
        "id": "9H5pyVs4AI84"
      }
    }
  ]
}