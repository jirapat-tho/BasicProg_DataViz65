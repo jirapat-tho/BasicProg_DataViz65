{
  "nbformat": 4,
  "nbformat_minor": 0,
  "metadata": {
    "colab": {
      "name": "Recap 1-3 Quiz1.ipynb",
      "provenance": [],
      "include_colab_link": true
    },
    "kernelspec": {
      "name": "python3",
      "display_name": "Python 3"
    },
    "language_info": {
      "name": "python"
    }
  },
  "cells": [
    {
      "cell_type": "markdown",
      "metadata": {
        "id": "view-in-github",
        "colab_type": "text"
      },
      "source": [
        "<a href=\"https://colab.research.google.com/github/jtmeawno1/BasicProg_DataViz65/blob/main/Quiz1.ipynb\" target=\"_parent\"><img src=\"https://colab.research.google.com/assets/colab-badge.svg\" alt=\"Open In Colab\"/></a>"
      ]
    },
    {
      "cell_type": "markdown",
      "source": [
        "Quiz 1 \n",
        "\n",
        "คำนวณเวลาเป็นความต่างของเวลาเป็นวินาทีของช่วงเวลาต่อไปนี้โดยใช้คำสั่ง split() ช่วย และ print ออกมาให้สวยงาม\n",
        "\n",
        "* 09:11:50 - 12:30:15\n",
        "* 13:41:07 - 20:00:18\n",
        "* 21:30:15 - 00:00:00\n",
        "* 00:00:00 - 23:59:59\n",
        "\n",
        "\n",
        "\n",
        "\n",
        "\n"
      ],
      "metadata": {
        "id": "FKKg2s03yfKC"
      }
    },
    {
      "cell_type": "code",
      "source": [
        "q1 = '09:11:50'\n",
        "q1_sp = q1.split(':')\n",
        "print(q1_sp)\n",
        "ans1= int(q1_sp[0])*3600+int (q1_sp[1])*60+int (q1_sp[2])\n",
        "q2 = '12:30:15'\n",
        "q2_sp = q2.split(':')\n",
        "print(q2_sp)\n",
        "ans2= int(q2_sp[0])*3600+int (q2_sp[1])*60+int (q2_sp[2])\n",
        "print(f'q1 - q2 แปลงเป็นความต่างของเวลาเป็นวินาทีได้ {ans2-ans1} วินาที')"
      ],
      "metadata": {
        "colab": {
          "base_uri": "https://localhost:8080/"
        },
        "id": "BuEslLuD7ekC",
        "outputId": "5551c7c2-e795-423d-82f2-313d57010af8"
      },
      "execution_count": 1,
      "outputs": [
        {
          "output_type": "stream",
          "name": "stdout",
          "text": [
            "['09', '11', '50']\n",
            "['12', '30', '15']\n",
            "q1 - q2 แปลงเป็นความต่างของเวลาเป็นวินาทีได้ 11905 วินาที\n"
          ]
        }
      ]
    },
    {
      "cell_type": "code",
      "source": [
        "q3 = '13:41:07'\n",
        "q3_sp = q3.split(':')\n",
        "print(q3_sp)\n",
        "ans3= int(q3_sp[0])*3600+int (q3_sp[1])*60+int (q3_sp[2])\n",
        "q4 = '20:00:18'\n",
        "q4_sp = q4.split(':')\n",
        "print(q4_sp)\n",
        "ans4= int(q4_sp[0])*3600+int (q4_sp[1])*60+int (q4_sp[2])\n",
        "print(f'q3 - q4 แปลงเป็นความต่างของเวลาเป็นวินาทีได้ {ans4-ans3} วินาที')"
      ],
      "metadata": {
        "outputId": "c36c3ce3-93ed-471c-bc97-41c431bcb76b",
        "colab": {
          "base_uri": "https://localhost:8080/"
        },
        "id": "tGjpr_fV-4c8"
      },
      "execution_count": null,
      "outputs": [
        {
          "output_type": "stream",
          "name": "stdout",
          "text": [
            "['13', '41', '07']\n",
            "['20', '00', '18']\n",
            "13:41:07 - 20:00:18 แปลงเป็นความต่างของเวลาเป็นวินาทีได้ 22751 วินาที\n"
          ]
        }
      ]
    },
    {
      "cell_type": "code",
      "source": [
        "q5 = '21:30:15'\n",
        "q5_sp = q5.split(':')\n",
        "print(q5_sp)\n",
        "ans5= int(q5_sp[0])*3600+int (q5_sp[1])*60+int (q5_sp[2])\n",
        "q6 = '00:00:00'\n",
        "q6_sp = q6.split(':')\n",
        "print(q6_sp)\n",
        "ans6= int(q6_sp[0])*3600+int (q6_sp[1])*60+int (q6_sp[2])\n",
        "print(f'q5 - q6 แปลงเป็นความต่างของเวลาเป็นวินาทีได้ {ans5-ans6} วินาที')"
      ],
      "metadata": {
        "id": "yuN_VE5d_zkp",
        "outputId": "3da3c81b-21f7-46ed-8628-90df89be6c1b",
        "colab": {
          "base_uri": "https://localhost:8080/"
        }
      },
      "execution_count": null,
      "outputs": [
        {
          "output_type": "stream",
          "name": "stdout",
          "text": [
            "['21', '30', '15']\n",
            "['00', '00', '00']\n",
            "21:30:15 - 00:00:00 แปลงเป็นความต่างของเวลาเป็นวินาทีได้ 77415 วินาที\n"
          ]
        }
      ]
    },
    {
      "cell_type": "code",
      "source": [
        "q7 = '00:00:00'\n",
        "q7_sp = q7.split(':')\n",
        "print(q7_sp)\n",
        "ans7= int(q7_sp[0])*3600+int (q7_sp[1])*60+int (q7_sp[2])\n",
        "q8 = '23:59:59'\n",
        "q8_sp = q8.split(':')\n",
        "print(q8_sp)\n",
        "ans8= int(q8_sp[0])*3600+int (q8_sp[1])*60+int (q8_sp[2])\n",
        "print(f'q7 - q8 แปลงเป็นความต่างของเวลาเป็นวินาทีได้ {ans8-ans7} วินาที')"
      ],
      "metadata": {
        "id": "_eH-8meA_v4M",
        "outputId": "d74d4fbc-2982-4ce5-e700-0edd7cb9747e",
        "colab": {
          "base_uri": "https://localhost:8080/"
        }
      },
      "execution_count": null,
      "outputs": [
        {
          "output_type": "stream",
          "name": "stdout",
          "text": [
            "['00', '00', '00']\n",
            "['23', '59', '59']\n",
            "00:00:00 - 23:59:59 แปลงเป็นความต่างของเวลาเป็นวินาทีได้ 86399 วินาที\n"
          ]
        }
      ]
    }
  ]
}