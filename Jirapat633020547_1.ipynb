{
  "nbformat": 4,
  "nbformat_minor": 0,
  "metadata": {
    "colab": {
      "name": "Jirapat633020547-1",
      "provenance": [],
      "authorship_tag": "ABX9TyMKXbjdQnDb5mJZV9H4K/xo",
      "include_colab_link": true
    },
    "kernelspec": {
      "name": "python3",
      "display_name": "Python 3"
    },
    "language_info": {
      "name": "python"
    }
  },
  "cells": [
    {
      "cell_type": "markdown",
      "metadata": {
        "id": "view-in-github",
        "colab_type": "text"
      },
      "source": [
        "<a href=\"https://colab.research.google.com/github/jtmeawno1/BasicProg_DataViz65/blob/main/Jirapat633020547_1.ipynb\" target=\"_parent\"><img src=\"https://colab.research.google.com/assets/colab-badge.svg\" alt=\"Open In Colab\"/></a>"
      ]
    },
    {
      "cell_type": "code",
      "execution_count": null,
      "metadata": {
        "id": "Rt0StjdtGbd9"
      },
      "outputs": [],
      "source": [
        "จิราพัชร ทองประเสริฐ (5471)"
      ]
    },
    {
      "cell_type": "markdown",
      "source": [
        "# Markdown "
      ],
      "metadata": {
        "id": "87GlYAT3HkIv"
      }
    },
    {
      "cell_type": "markdown",
      "source": [
        "## heading2"
      ],
      "metadata": {
        "id": "M2T4HwX-Htgv"
      }
    },
    {
      "cell_type": "code",
      "source": [
        "print ('Jirapat')"
      ],
      "metadata": {
        "colab": {
          "base_uri": "https://localhost:8080/"
        },
        "id": "EH3rm7GZIAgi",
        "outputId": "417699c0-599d-4180-f80d-aa320b211cc1"
      },
      "execution_count": null,
      "outputs": [
        {
          "output_type": "stream",
          "name": "stdout",
          "text": [
            "Jirapat\n"
          ]
        }
      ]
    }
  ]
}