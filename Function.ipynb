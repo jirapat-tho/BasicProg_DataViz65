{
  "nbformat": 4,
  "nbformat_minor": 0,
  "metadata": {
    "colab": {
      "name": "Recap 4-5.ipynb",
      "provenance": [],
      "include_colab_link": true
    },
    "kernelspec": {
      "name": "python3",
      "display_name": "Python 3"
    },
    "language_info": {
      "name": "python"
    }
  },
  "cells": [
    {
      "cell_type": "markdown",
      "metadata": {
        "id": "view-in-github",
        "colab_type": "text"
      },
      "source": [
        "<a href=\"https://colab.research.google.com/github/jtmeawno1/BasicProg_DataViz65/blob/main/Function.ipynb\" target=\"_parent\"><img src=\"https://colab.research.google.com/assets/colab-badge.svg\" alt=\"Open In Colab\"/></a>"
      ]
    },
    {
      "cell_type": "markdown",
      "source": [
        "##Function ```Print```"
      ],
      "metadata": {
        "id": "HZ9WDUykQ7_v"
      }
    },
    {
      "cell_type": "code",
      "source": [
        "print()"
      ],
      "metadata": {
        "colab": {
          "base_uri": "https://localhost:8080/"
        },
        "id": "tDjbqTFCExUT",
        "outputId": "ae102486-a551-401c-c932-b844fdcb7c50"
      },
      "execution_count": null,
      "outputs": [
        {
          "output_type": "stream",
          "name": "stdout",
          "text": [
            "\n"
          ]
        }
      ]
    },
    {
      "cell_type": "code",
      "source": [
        "print('สวัสดี')"
      ],
      "metadata": {
        "colab": {
          "base_uri": "https://localhost:8080/"
        },
        "id": "d7SN-SZcRBN_",
        "outputId": "1e0c8e7e-9db2-4401-d8fd-d58904a3e334"
      },
      "execution_count": null,
      "outputs": [
        {
          "output_type": "stream",
          "name": "stdout",
          "text": [
            "สวัสดี\n"
          ]
        }
      ]
    },
    {
      "cell_type": "code",
      "source": [
        "print('hello')\n",
        "print('สวัสดี')"
      ],
      "metadata": {
        "colab": {
          "base_uri": "https://localhost:8080/"
        },
        "id": "tkeRD-x_RKvG",
        "outputId": "46e8ac0f-e4cb-492e-9702-7beb0994bd79"
      },
      "execution_count": null,
      "outputs": [
        {
          "output_type": "stream",
          "name": "stdout",
          "text": [
            "hello\n",
            "สวัสดี\n"
          ]
        }
      ]
    },
    {
      "cell_type": "code",
      "source": [
        "print('hello',end=' ')\n",
        "print('สวัสดี')"
      ],
      "metadata": {
        "colab": {
          "base_uri": "https://localhost:8080/"
        },
        "id": "9Q7xnBlIRP-S",
        "outputId": "5bfb3709-6248-4dd6-bca9-a3fca547041c"
      },
      "execution_count": null,
      "outputs": [
        {
          "output_type": "stream",
          "name": "stdout",
          "text": [
            "hello สวัสดี\n"
          ]
        }
      ]
    },
    {
      "cell_type": "code",
      "source": [
        "print('hello','สวัสดี')"
      ],
      "metadata": {
        "colab": {
          "base_uri": "https://localhost:8080/"
        },
        "id": "zzck9YvJRXlD",
        "outputId": "102390af-5b9c-4748-cf25-914c94ab1613"
      },
      "execution_count": null,
      "outputs": [
        {
          "output_type": "stream",
          "name": "stdout",
          "text": [
            "hello สวัสดี\n"
          ]
        }
      ]
    },
    {
      "cell_type": "code",
      "source": [
        "print('hello','สวัสดี',sep='\\n')"
      ],
      "metadata": {
        "colab": {
          "base_uri": "https://localhost:8080/"
        },
        "id": "4DL7guIQRh-I",
        "outputId": "102c391d-4798-437a-8ba6-663426f03693"
      },
      "execution_count": null,
      "outputs": [
        {
          "output_type": "stream",
          "name": "stdout",
          "text": [
            "hello\n",
            "สวัสดี\n"
          ]
        }
      ]
    },
    {
      "cell_type": "code",
      "source": [
        "print('hello',end='')\n",
        "print('สวัสดี')"
      ],
      "metadata": {
        "colab": {
          "base_uri": "https://localhost:8080/"
        },
        "id": "LcmlMdDHRrWD",
        "outputId": "246691f2-a2bf-481d-e155-0687b97f5910"
      },
      "execution_count": null,
      "outputs": [
        {
          "output_type": "stream",
          "name": "stdout",
          "text": [
            "helloสวัสดี\n"
          ]
        }
      ]
    },
    {
      "cell_type": "markdown",
      "source": [
        "HW1 \n",
        "\n",
        "เขียน function \n",
        "แสดงความต่างของเวลา (Quiz1)\n",
        "โดย input อยู่ในรูปแบบ ```'09:11:50 - 12:30:15'```\n",
        "\n",
        "และทดลองรัน\n",
        "\n",
        "* '09:11:50 - 12:30:15'\n",
        "* '13:41:07 - 20:00:18'\n",
        "* '00:00:00 - 23:59:59'"
      ],
      "metadata": {
        "id": "3yUVmRymTay0"
      }
    },
    {
      "cell_type": "code",
      "source": [
        "def time(time) :\n",
        "      x= time\n",
        "      y=x.split(' - ')\n",
        "      z0=y[0].split(':')\n",
        "      z1=y[1].split(':')\n",
        "      print(y)\n",
        "      print(z0)\n",
        "      print(z1)\n",
        "      total_sec=((int(z1[0])*3600)+(int(z1[1])*60)+(int(z1[2])))-((int(z0[0])*3600)+(int(z0[1])*60)+(int(z0[2])))\n",
        "      print(f'ความต่างของเวลา = {total_sec:,} วินาที')"
      ],
      "metadata": {
        "id": "fI0UbnahGzL-"
      },
      "execution_count": null,
      "outputs": []
    },
    {
      "cell_type": "code",
      "source": [
        "time('09:11:50 - 12:30:15') "
      ],
      "metadata": {
        "outputId": "74d7e170-d72f-4253-e1cb-501abb72d640",
        "colab": {
          "base_uri": "https://localhost:8080/"
        },
        "id": "pPYYMGRAHGzE"
      },
      "execution_count": null,
      "outputs": [
        {
          "output_type": "stream",
          "name": "stdout",
          "text": [
            "['09:11:50', '12:30:15']\n",
            "['09', '11', '50']\n",
            "['12', '30', '15']\n",
            "ความต่างของเวลา = 11,905 วินาที\n"
          ]
        }
      ]
    },
    {
      "cell_type": "code",
      "source": [
        "time('13:41:07 - 20:00:18') "
      ],
      "metadata": {
        "id": "jjHmF4xXX3xR",
        "outputId": "5e981700-51ec-4466-d3f0-7ef0835f04ce",
        "colab": {
          "base_uri": "https://localhost:8080/"
        }
      },
      "execution_count": null,
      "outputs": [
        {
          "output_type": "stream",
          "name": "stdout",
          "text": [
            "['13:41:07', '20:00:18']\n",
            "['13', '41', '07']\n",
            "['20', '00', '18']\n",
            "ความต่างของเวลา = 22,751 วินาที\n"
          ]
        }
      ]
    },
    {
      "cell_type": "code",
      "source": [
        "time('00:00:00 - 23:59:59') "
      ],
      "metadata": {
        "id": "R0YF9wgNX63l",
        "outputId": "8db3d107-a6f5-48a0-88ff-ed3ba100ce7b",
        "colab": {
          "base_uri": "https://localhost:8080/"
        }
      },
      "execution_count": null,
      "outputs": [
        {
          "output_type": "stream",
          "name": "stdout",
          "text": [
            "['00:00:00', '23:59:59']\n",
            "['00', '00', '00']\n",
            "['23', '59', '59']\n",
            "ความต่างของเวลา = 86,399 วินาที\n"
          ]
        }
      ]
    }
  ]
}