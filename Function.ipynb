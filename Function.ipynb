{
  "nbformat": 4,
  "nbformat_minor": 0,
  "metadata": {
    "colab": {
      "name": "Recap 4-5.ipynb",
      "provenance": [],
      "include_colab_link": true
    },
    "kernelspec": {
      "name": "python3",
      "display_name": "Python 3"
    },
    "language_info": {
      "name": "python"
    }
  },
  "cells": [
    {
      "cell_type": "markdown",
      "metadata": {
        "id": "view-in-github",
        "colab_type": "text"
      },
      "source": [
        "<a href=\"https://colab.research.google.com/github/jtmeawno1/BasicProg_DataViz65/blob/main/Function.ipynb\" target=\"_parent\"><img src=\"https://colab.research.google.com/assets/colab-badge.svg\" alt=\"Open In Colab\"/></a>"
      ]
    },
    {
      "cell_type": "markdown",
      "source": [
        "##Function ```Print```"
      ],
      "metadata": {
        "id": "HZ9WDUykQ7_v"
      }
    },
    {
      "cell_type": "code",
      "source": [
        "print()"
      ],
      "metadata": {
        "colab": {
          "base_uri": "https://localhost:8080/"
        },
        "id": "tDjbqTFCExUT",
        "outputId": "ae102486-a551-401c-c932-b844fdcb7c50"
      },
      "execution_count": 1,
      "outputs": [
        {
          "output_type": "stream",
          "name": "stdout",
          "text": [
            "\n"
          ]
        }
      ]
    },
    {
      "cell_type": "code",
      "source": [
        "print('สวัสดี')"
      ],
      "metadata": {
        "colab": {
          "base_uri": "https://localhost:8080/"
        },
        "id": "d7SN-SZcRBN_",
        "outputId": "1e0c8e7e-9db2-4401-d8fd-d58904a3e334"
      },
      "execution_count": 2,
      "outputs": [
        {
          "output_type": "stream",
          "name": "stdout",
          "text": [
            "สวัสดี\n"
          ]
        }
      ]
    },
    {
      "cell_type": "code",
      "source": [
        "print('hello')\n",
        "print('สวัสดี')"
      ],
      "metadata": {
        "colab": {
          "base_uri": "https://localhost:8080/"
        },
        "id": "tkeRD-x_RKvG",
        "outputId": "46e8ac0f-e4cb-492e-9702-7beb0994bd79"
      },
      "execution_count": 3,
      "outputs": [
        {
          "output_type": "stream",
          "name": "stdout",
          "text": [
            "hello\n",
            "สวัสดี\n"
          ]
        }
      ]
    },
    {
      "cell_type": "code",
      "source": [
        "print('hello',end=' ')\n",
        "print('สวัสดี')"
      ],
      "metadata": {
        "colab": {
          "base_uri": "https://localhost:8080/"
        },
        "id": "9Q7xnBlIRP-S",
        "outputId": "5bfb3709-6248-4dd6-bca9-a3fca547041c"
      },
      "execution_count": 4,
      "outputs": [
        {
          "output_type": "stream",
          "name": "stdout",
          "text": [
            "hello สวัสดี\n"
          ]
        }
      ]
    },
    {
      "cell_type": "code",
      "source": [
        "print('hello','สวัสดี')"
      ],
      "metadata": {
        "colab": {
          "base_uri": "https://localhost:8080/"
        },
        "id": "zzck9YvJRXlD",
        "outputId": "102390af-5b9c-4748-cf25-914c94ab1613"
      },
      "execution_count": 5,
      "outputs": [
        {
          "output_type": "stream",
          "name": "stdout",
          "text": [
            "hello สวัสดี\n"
          ]
        }
      ]
    },
    {
      "cell_type": "code",
      "source": [
        "print('hello','สวัสดี',sep='\\n')"
      ],
      "metadata": {
        "colab": {
          "base_uri": "https://localhost:8080/"
        },
        "id": "4DL7guIQRh-I",
        "outputId": "102c391d-4798-437a-8ba6-663426f03693"
      },
      "execution_count": 6,
      "outputs": [
        {
          "output_type": "stream",
          "name": "stdout",
          "text": [
            "hello\n",
            "สวัสดี\n"
          ]
        }
      ]
    },
    {
      "cell_type": "code",
      "source": [
        "print('hello',end='')\n",
        "print('สวัสดี')"
      ],
      "metadata": {
        "colab": {
          "base_uri": "https://localhost:8080/"
        },
        "id": "LcmlMdDHRrWD",
        "outputId": "246691f2-a2bf-481d-e155-0687b97f5910"
      },
      "execution_count": 7,
      "outputs": [
        {
          "output_type": "stream",
          "name": "stdout",
          "text": [
            "helloสวัสดี\n"
          ]
        }
      ]
    },
    {
      "cell_type": "markdown",
      "source": [
        "HW1 \n",
        "\n",
        "เขียน function \n",
        "แสดงความต่างของเวลา (Quiz1)\n",
        "โดย input อยู่ในรูปแบบ ```'09:11:50 - 12:30:15'```\n",
        "\n",
        "และทดลองรัน\n",
        "\n",
        "* '09:11:50 - 12:30:15'\n",
        "* '13:41:07 - 20:00:18'\n",
        "* '00:00:00 - 23:59:59'"
      ],
      "metadata": {
        "id": "3yUVmRymTay0"
      }
    },
    {
      "cell_type": "code",
      "source": [
        "def time(time):\n",
        "  j3=  int (time.split(':')[0])*3600\n",
        "  k3= int (time.split(':')[1])*60\n",
        "  n3 = int (time.split(':')[2])\n",
        "  tt = j3+k3+n3\n",
        "  print(\"แปลงเป็นวินาทีได้เท่ากับ\",{tt},\" วินาที\")"
      ],
      "metadata": {
        "id": "fI0UbnahGzL-"
      },
      "execution_count": 39,
      "outputs": []
    },
    {
      "cell_type": "code",
      "source": [
        "time('09:11:50') "
      ],
      "metadata": {
        "outputId": "db76627d-459f-4890-b53a-d8281b12bbee",
        "colab": {
          "base_uri": "https://localhost:8080/"
        },
        "id": "pPYYMGRAHGzE"
      },
      "execution_count": 40,
      "outputs": [
        {
          "output_type": "stream",
          "name": "stdout",
          "text": [
            "แปลงเป็นวินาทีได้เท่ากับ {33110}  วินาที\n"
          ]
        }
      ]
    }
  ]
}